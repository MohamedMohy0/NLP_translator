{
 "cells": [
  {
   "cell_type": "code",
   "execution_count": 1,
   "id": "eda925c6",
   "metadata": {},
   "outputs": [],
   "source": [
    "import pandas as pd\n",
    "import re\n",
    "from nltk.translate import AlignedSent, IBMModel1\n",
    "import dill"
   ]
  },
  {
   "cell_type": "code",
   "execution_count": null,
   "id": "dd9ddeea",
   "metadata": {},
   "outputs": [],
   "source": [
    "lfrom=\"Source\"\n",
    "lto=\"Target\""
   ]
  },
  {
   "cell_type": "code",
   "execution_count": null,
   "id": "08dbf868",
   "metadata": {},
   "outputs": [],
   "source": [
    "def select_language(lfrom,lto):\n",
    "    global tfrom_sentences,tto_sentences,t1from_sentences,t1to_sentences,t2from_sentences,t2to_sentences\n",
    "    if lfrom==\"english\":\n",
    "        data=pd.read_excel(f\"english_{lto.lower()}.xlsx\")\n",
    "        tfrom_sentences=data[\"english\"].tolist()\n",
    "        tto_sentences=data[lto].tolist()\n",
    "        \n",
    "    elif lto==\"english\":\n",
    "        data=pd.read_excel(f\"english_{lfrom.lower()}.xlsx\")\n",
    "        tto_sentences=data[\"english\"].tolist()\n",
    "        tfrom_sentences=data[lfrom].tolist()\n",
    "select_language(lfrom,lto)"
   ]
  },
  {
   "cell_type": "code",
   "execution_count": 4,
   "id": "c7bcc3c1",
   "metadata": {},
   "outputs": [],
   "source": [
    "def clean_sentences(sentences):\n",
    "    cleaned_sentences = []\n",
    "    for sentence in sentences:\n",
    "        sentence = sentence.strip()\n",
    "        sentence = sentence.lower()\n",
    "        sentence = re.sub(r\"[^a-zA-Z0-9\\u0600-\\u06FF]+\", \" \", sentence)\n",
    "        cleaned_sentences.append(sentence.strip())\n",
    "    return cleaned_sentences"
   ]
  },
  {
   "cell_type": "code",
   "execution_count": 5,
   "id": "e716378f",
   "metadata": {},
   "outputs": [],
   "source": [
    "\n",
    "cleaned_from_sentences = clean_sentences(tfrom_sentences)\n",
    "cleaned_to_sentences = clean_sentences(tto_sentences)"
   ]
  },
  {
   "cell_type": "code",
   "execution_count": null,
   "id": "46d84967",
   "metadata": {},
   "outputs": [],
   "source": [
    "\n",
    "def save_model(model, filename):\n",
    "    with open(filename, 'wb') as f:\n",
    "        dill.dump(model, f)\n",
    "\n",
    "def train_translation_model(source_sentences, target_sentences):\n",
    "    aligned_sentences = [AlignedSent(source.split(), target.split()) for source, target in zip(source_sentences, target_sentences)]\n",
    "    ibm_model = IBMModel1(aligned_sentences, 10)\n",
    "    return ibm_model\n",
    "translation_model = train_translation_model(cleaned_from_sentences, cleaned_to_sentences)\n",
    "save_model(translation_model, f\"English_{lto}.pkl\")"
   ]
  }
 ],
 "metadata": {
  "kernelspec": {
   "display_name": "Python 3",
   "language": "python",
   "name": "python3"
  },
  "language_info": {
   "codemirror_mode": {
    "name": "ipython",
    "version": 3
   },
   "file_extension": ".py",
   "mimetype": "text/x-python",
   "name": "python",
   "nbconvert_exporter": "python",
   "pygments_lexer": "ipython3",
   "version": "3.12.5"
  }
 },
 "nbformat": 4,
 "nbformat_minor": 5
}
